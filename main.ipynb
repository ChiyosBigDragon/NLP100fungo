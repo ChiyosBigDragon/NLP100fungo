{
 "cells": [
  {
   "cell_type": "markdown",
   "metadata": {},
   "source": [
    "<h1>目次<span class=\"tocSkip\"></span></h1>\n",
    "<div class=\"toc\"><ul class=\"toc-item\"><li><span><a href=\"#第1章:-準備運動\" data-toc-modified-id=\"第1章:-準備運動-2\">第1章: 準備運動</a></span><ul class=\"toc-item\"><li><ul class=\"toc-item\"><li><span><a href=\"#00.-文字列の逆順\" data-toc-modified-id=\"00.-文字列の逆順-2.0.1\">00. 文字列の逆順</a></span></li><li><span><a href=\"#01.-「パタトクカシーー」\" data-toc-modified-id=\"01.-「パタトクカシーー」-2.0.2\">01. 「パタトクカシーー」</a></span></li><li><span><a href=\"#02.-「パトカー」＋「タクシー」＝「パタトクカシーー」\" data-toc-modified-id=\"02.-「パトカー」＋「タクシー」＝「パタトクカシーー」-2.0.3\">02. 「パトカー」＋「タクシー」＝「パタトクカシーー」</a></span></li><li><span><a href=\"#03.-円周率\" data-toc-modified-id=\"03.-円周率-2.0.4\">03. 円周率</a></span></li><li><span><a href=\"#04.-元素記号\" data-toc-modified-id=\"04.-元素記号-2.0.5\">04. 元素記号</a></span></li><li><span><a href=\"#05.-n-gram\" data-toc-modified-id=\"05.-n-gram-2.0.6\">05. n-gram</a></span></li><li><span><a href=\"#06.-集合\" data-toc-modified-id=\"06.-集合-2.0.7\">06. 集合</a></span></li><li><span><a href=\"#07.-テンプレートによる文生成\" data-toc-modified-id=\"07.-テンプレートによる文生成-2.0.8\">07. テンプレートによる文生成</a></span></li><li><span><a href=\"#08.-暗号文\" data-toc-modified-id=\"08.-暗号文-2.0.9\">08. 暗号文</a></span></li><li><span><a href=\"#09.-Typoglycemia\" data-toc-modified-id=\"09.-Typoglycemia-2.0.10\">09. Typoglycemia</a></span></li></ul></li></ul></li></ul></div>"
   ]
  },
  {
   "cell_type": "markdown",
   "metadata": {},
   "source": [
    "# 第1章: 準備運動"
   ]
  },
  {
   "cell_type": "markdown",
   "metadata": {},
   "source": [
    "### 00. 文字列の逆順\n",
    "> 文字列\"stressed\"の文字を逆に（末尾から先頭に向かって）並べた文字列を得よ．"
   ]
  },
  {
   "cell_type": "code",
   "execution_count": 1,
   "metadata": {},
   "outputs": [
    {
     "name": "stdout",
     "output_type": "stream",
     "text": [
      "desserts\n"
     ]
    }
   ],
   "source": [
    "Daten = \"stressed\"\n",
    "print(Daten[::-1])"
   ]
  },
  {
   "cell_type": "markdown",
   "metadata": {},
   "source": [
    "`[x:y:z]`$:=[x,y)$を$z$ごとに出力\n",
    "\n",
    "[Pythonのスライスによるリストや文字列の部分選択・代入 - note.nkmk.me](https://note.nkmk.me/python-slice-usage/)"
   ]
  },
  {
   "cell_type": "markdown",
   "metadata": {},
   "source": [
    "### 01. 「パタトクカシーー」\n",
    ">「パタトクカシーー」という文字列の1,3,5,7文字目を取り出して連結した文字列を得よ．"
   ]
  },
  {
   "cell_type": "code",
   "execution_count": 2,
   "metadata": {
    "scrolled": true
   },
   "outputs": [
    {
     "name": "stdout",
     "output_type": "stream",
     "text": [
      "パトカー\n"
     ]
    }
   ],
   "source": [
    "Daten = \"パタトクカシーー\"\n",
    "print(Daten[::2])"
   ]
  },
  {
   "cell_type": "markdown",
   "metadata": {},
   "source": [
    "### 02. 「パトカー」＋「タクシー」＝「パタトクカシーー」\n",
    ">「パトカー」＋「タクシー」の文字を先頭から交互に連結して文字列「パタトクカシーー」を得よ．"
   ]
  },
  {
   "cell_type": "code",
   "execution_count": 3,
   "metadata": {},
   "outputs": [
    {
     "name": "stdout",
     "output_type": "stream",
     "text": [
      "パタトクカシーー\n"
     ]
    }
   ],
   "source": [
    "ant = \"\"\n",
    "for (c1,c2) in zip(\"パトカー\",\"タクシー\") :\n",
    "    ant+=c1+c2\n",
    "print(ant)"
   ]
  },
  {
   "cell_type": "markdown",
   "metadata": {},
   "source": [
    "`for (x1,x2,…,xn) in zip(y1,y2,…,yn)` は最小要素数だけループを回す"
   ]
  },
  {
   "cell_type": "markdown",
   "metadata": {},
   "source": [
    "### 03. 円周率\n",
    ">\"Now I need a drink, alcoholic of course, after the heavy lectures involving quantum mechanics.\"という文を単語に分解し，各単語の（アルファベットの）文字数を先頭から出現順に並べたリストを作成せよ．"
   ]
  },
  {
   "cell_type": "code",
   "execution_count": 4,
   "metadata": {},
   "outputs": [
    {
     "name": "stdout",
     "output_type": "stream",
     "text": [
      "[3, 1, 4, 1, 5, 9, 2, 6, 5, 3, 5, 8, 9, 7, 9]\n"
     ]
    }
   ],
   "source": [
    "import re\n",
    "Daten = \"Now I need a drink, alcoholic of course, after the heavy lectures involving quantum mechanics.\"\n",
    "Daten = re.split(\"[ ,.]+\",Daten) \n",
    "Daten.remove(\"\")\n",
    "Liste = []\n",
    "for s in Daten :\n",
    "    Liste.append(len(s))\n",
    "print(Liste)"
   ]
  },
  {
   "cell_type": "markdown",
   "metadata": {},
   "source": [
    "`import re`で正規表現を使える．  \n",
    "`re.split(正規表現,str)`で指定文字で分割する．`[ ,.]`は\"(空白)\"と\",\"と\".\"のいずれかで，`+`は直前の要素を1回以上繰り返す．  \n",
    "`\"Now I … mechanics.\"`は\".\"で終わるので`[\"Now\",\"I\",… ,\"mechanics\",\"\"]`となってしまい空文字列が邪魔．`list.remove(\"\")`で空文字列を削除．"
   ]
  },
  {
   "cell_type": "markdown",
   "metadata": {},
   "source": [
    "### 04. 元素記号\n",
    ">\"Hi He Lied Because Boron Could Not Oxidize Fluorine. New Nations Might Also Sign Peace Security Clause. Arthur King Can.\"という文を単語に分解し，1, 5, 6, 7, 8, 9, 15, 16, 19番目の単語は先頭の1文字，それ以外の単語は先頭に2文字を取り出し，取り出した文字列から単語の位置（先頭から何番目の単語か）への連想配列（辞書型もしくはマップ型）を作成せよ．"
   ]
  },
  {
   "cell_type": "code",
   "execution_count": 5,
   "metadata": {},
   "outputs": [
    {
     "name": "stdout",
     "output_type": "stream",
     "text": [
      "{'H': 1, 'He': 2, 'Li': 3, 'Be': 4, 'B': 5, 'C': 6, 'N': 7, 'O': 8, 'F': 9, 'Ne': 10, 'Na': 11, 'Mi': 12, 'Al': 13, 'Si': 14, 'P': 15, 'S': 16, 'Cl': 17, 'Ar': 18, 'K': 19, 'Ca': 20}\n"
     ]
    }
   ],
   "source": [
    "import re\n",
    "Daten = \"Hi He Lied Because Boron Could Not Oxidize Fluorine. New Nations Might Also Sign Peace Security Clause. Arthur King Can.\"\n",
    "ID = [1, 5, 6, 7, 8, 9, 15, 16, 19]\n",
    "Daten = re.split(\"[ ,.]+\",Daten) \n",
    "Daten.remove(\"\")\n",
    "Wörterbuch = {}\n",
    "for (i,s) in enumerate(Daten) :\n",
    "    if i+1 in ID :\n",
    "        Wörterbuch[s[0]] = i+1\n",
    "    else :\n",
    "        Wörterbuch[s[0:2]] = i+1\n",
    "print(Wörterbuch)"
   ]
  },
  {
   "cell_type": "markdown",
   "metadata": {},
   "source": [
    "`for (i,s) in enumerate(list)`でindexを取得しながらループ．  \n",
    "`if i+1 in id`は内包表記というらしいがよくわかっていない．\n",
    "[pythonの内包表記を少し詳しく - Qiita](https://qiita.com/y__sama/items/a2c458de97c4aa5a98e7)"
   ]
  },
  {
   "cell_type": "markdown",
   "metadata": {},
   "source": [
    "### 05. n-gram\n",
    ">与えられたシーケンス（文字列やリストなど）からn-gramを作る関数を作成せよ．この関数を用い，\"I am an NLPer\"という文から単語bi-gram，文字bi-gramを得よ．"
   ]
  },
  {
   "cell_type": "code",
   "execution_count": 6,
   "metadata": {},
   "outputs": [
    {
     "name": "stdout",
     "output_type": "stream",
     "text": [
      "['I ', ' a', 'am', 'm ', ' a', 'an', 'n ', ' N', 'NL', 'LP', 'Pe', 'er']\n",
      "[['I', 'am'], ['am', 'an'], ['an', 'NLPer']]\n"
     ]
    }
   ],
   "source": [
    "def n_gram (n,s) :\n",
    "    zurück = []\n",
    "    for i in range(len(s)) :\n",
    "        tmp = s[i:i+n]\n",
    "        if len(tmp) == n :\n",
    "            zurück.append(tmp)\n",
    "    return zurück\n",
    "\n",
    "Daten = \"I am an NLPer\"\n",
    "Wört = Daten.split(\" \") \n",
    "print(n_gram(2,Daten))\n",
    "print(n_gram(2,Wört))"
   ]
  },
  {
   "cell_type": "markdown",
   "metadata": {},
   "source": [
    "<dl>\n",
    "  <dt>n-gram</dt>\n",
    "  <dd>シーケンスから連続n要素を取り出したもの．</dd>\n",
    "</dl>"
   ]
  },
  {
   "cell_type": "markdown",
   "metadata": {},
   "source": [
    "### 06. 集合\n",
    ">\"paraparaparadise\"と\"paragraph\"に含まれる文字bi-gramの集合を，それぞれ, XとYとして求め，XとYの和集合，積集合，差集合を求めよ．さらに，'se'というbi-gramがXおよびYに含まれるかどうかを調べよ．"
   ]
  },
  {
   "cell_type": "code",
   "execution_count": 7,
   "metadata": {},
   "outputs": [
    {
     "name": "stdout",
     "output_type": "stream",
     "text": [
      "X: {'ap', 'ar', 'pa', 'ad', 'se', 'ra', 'is', 'di'}\n",
      "Y: {'ap', 'ag', 'ar', 'pa', 'ra', 'ph', 'gr'}\n",
      "Vereinigungsmenge: {'ap', 'ag', 'ar', 'pa', 'ad', 'se', 'ra', 'gr', 'is', 'ph', 'di'}\n",
      "Schnittmenge: {'ap', 'pa', 'ar', 'ra'}\n",
      "Differenz und Komplement(X-Y): {'di', 'se', 'ad', 'is'}\n",
      "Differenz und Komplement(Y-X): {'ag', 'ph', 'gr'}\n",
      "se in X ?: Richtig\n",
      "se in Y ?: Falsch\n"
     ]
    }
   ],
   "source": [
    "def n_gram (n,s) :\n",
    "    zurück = []\n",
    "    for i in range(len(s)) :\n",
    "        tmp = s[i:i+n]\n",
    "        if len(tmp) == n :\n",
    "            zurück.append(tmp)\n",
    "    return zurück\n",
    "\n",
    "DatenX = \"paraparaparadise\"\n",
    "DatenY = \"paragraph\"\n",
    "X = set(n_gram(2,DatenX))\n",
    "Y = set(n_gram(2,DatenY))\n",
    "print(f\"X: {X}\")\n",
    "print(f\"Y: {Y}\")\n",
    "print(f\"Vereinigungsmenge: {X|Y}\")\n",
    "print(f\"Schnittmenge: {X&Y}\")\n",
    "print(f\"Differenz und Komplement(X-Y): {X-Y}\")\n",
    "print(f\"Differenz und Komplement(Y-X): {Y-X}\")\n",
    "print(\"se in X ?: \"+(\"Richtig\" if \"se\" in X else \"Falsch\"))\n",
    "print(\"se in Y ?: \"+(\"Richtig\" if \"se\" in Y else \"Falsch\"))"
   ]
  },
  {
   "cell_type": "markdown",
   "metadata": {},
   "source": [
    "`set(list)`でlist→setに変換．  \n",
    "`set`の演算はbitと同じ感じ．[Python, set型で集合演算（和集合、積集合や部分集合の判定など） - note.nkmk.me](https://note.nkmk.me/python-set/)  \n",
    "関係ないけど`print(f\"{val}\")`使いやすい．  \n",
    "[True or false は ドイツ語 で何と言いますか？ - HiNative](https://hinative.com/ja/questions/3009247)"
   ]
  },
  {
   "cell_type": "markdown",
   "metadata": {},
   "source": [
    "### 07. テンプレートによる文生成\n",
    ">引数x, y, zを受け取り「x時のyはz」という文字列を返す関数を実装せよ．さらに，x=12, y=\"気温\", z=22.4として，実行結果を確認せよ．"
   ]
  },
  {
   "cell_type": "code",
   "execution_count": 8,
   "metadata": {},
   "outputs": [
    {
     "name": "stdout",
     "output_type": "stream",
     "text": [
      "12時の気温は22.4\n"
     ]
    }
   ],
   "source": [
    "def Temperatur (x,y,z) :\n",
    "    return (f\"{x}時の{y}は{z}\")\n",
    "print(Temperatur(12,\"気温\",22.4))"
   ]
  },
  {
   "cell_type": "markdown",
   "metadata": {},
   "source": [
    "### 08. 暗号文\n",
    ">与えられた文字列の各文字を，以下の仕様で変換する関数cipherを実装せよ．この関数を用い，英語のメッセージを暗号化・復号化せよ．\n",
    "- 英小文字ならば(219 - 文字コード)の文字に置換\n",
    "- その他の文字はそのまま出力"
   ]
  },
  {
   "cell_type": "code",
   "execution_count": 9,
   "metadata": {},
   "outputs": [
    {
     "name": "stdout",
     "output_type": "stream",
     "text": [
      "Dunkel ist das Leben, ist der Tod.\n",
      "→ Dfmpvo rhg wzh Lvyvm, rhg wvi Tlw.\n",
      "→ Dunkel ist das Leben, ist der Tod.\n"
     ]
    }
   ],
   "source": [
    "def cipher (s) :\n",
    "    züruck = \"\"\n",
    "    for c in s :\n",
    "        züruck += chr(219 - ord(c)) if 'a'<=c and c<='z' else c\n",
    "    return züruck\n",
    "\n",
    "str = \"Dunkel ist das Leben, ist der Tod.\"\n",
    "print(str)\n",
    "vorher = cipher(str)\n",
    "nachher = cipher(vorher)\n",
    "print(f\"→ {vorher}\")\n",
    "print(f\"→ {nachher}\")"
   ]
  },
  {
   "cell_type": "markdown",
   "metadata": {},
   "source": [
    "`ord(char)`ascii取得  \n",
    "`chr(int)` ascii変換  \n",
    "`'a'+'z' = 219`なので相互変換可能  \n",
    "[大地の歌 - Wikipedia](https://ja.wikipedia.org/wiki/%E5%A4%A7%E5%9C%B0%E3%81%AE%E6%AD%8C#%E6%AD%8C%E8%A9%9E)  \n",
    "[Mahler - Das Lied von der Erde - Bernstein - YouTube](https://www.youtube.com/watch?v=idRevTkIPts)"
   ]
  },
  {
   "cell_type": "markdown",
   "metadata": {},
   "source": [
    "### 09. Typoglycemia\n",
    ">スペースで区切られた単語列に対して，各単語の先頭と末尾の文字は残し，それ以外の文字の順序をランダムに並び替えるプログラムを作成せよ．ただし，長さが４以下の単語は並び替えないこととする．適当な英語の文（例えば\"I couldn't believe that I could actually understand what I was reading : the phenomenal power of the human mind .\"）を与え，その実行結果を確認せよ．"
   ]
  },
  {
   "cell_type": "code",
   "execution_count": 10,
   "metadata": {},
   "outputs": [
    {
     "name": "stdout",
     "output_type": "stream",
     "text": [
      "I coudl'nt bvlieee that I cuold aactully unanrstedd what I was raednig : the phannoeeml pewor of the human mind .\n"
     ]
    }
   ],
   "source": [
    "import random\n",
    "def Buchstabensalat (str) :\n",
    "    Wört = str.split(\" \")\n",
    "    züruck = []\n",
    "    for s in Wört :\n",
    "        tmp = s\n",
    "        if len(s)>4 :\n",
    "            mischen = [c for c in s[1:-1]]\n",
    "            random.shuffle(mischen)\n",
    "            tmp = tmp[0]+\"\".join(mischen)+tmp[-1]\n",
    "        züruck.append(tmp)\n",
    "    return \" \".join(züruck)\n",
    "    \n",
    "Daten = \"I couldn't believe that I could actually understand what I was reading : the phenomenal power of the human mind .\"\n",
    "print(Buchstabensalat(Daten))"
   ]
  },
  {
   "cell_type": "markdown",
   "metadata": {},
   "source": [
    "`import random`する．  \n",
    "混ぜるときは単語をバラしたlistを作ってから`random.shuffle(list)`．  \n",
    "`\"str\".join(list)`でいい感じに結合できる．  \n",
    "[タイポグリセミア - Wikipedia](https://ja.wikipedia.org/wiki/%E3%82%BF%E3%82%A4%E3%83%9D%E3%82%B0%E3%83%AA%E3%82%BB%E3%83%9F%E3%82%A2)"
   ]
  }
 ],
 "metadata": {
  "kernelspec": {
   "display_name": "Python 3",
   "language": "python",
   "name": "python3"
  },
  "language_info": {
   "codemirror_mode": {
    "name": "ipython",
    "version": 3
   },
   "file_extension": ".py",
   "mimetype": "text/x-python",
   "name": "python",
   "nbconvert_exporter": "python",
   "pygments_lexer": "ipython3",
   "version": "3.7.0"
  },
  "toc": {
   "base_numbering": 1,
   "nav_menu": {},
   "number_sections": false,
   "sideBar": true,
   "skip_h1_title": false,
   "title_cell": "Table of Contents",
   "title_sidebar": "Contents",
   "toc_cell": false,
   "toc_position": {},
   "toc_section_display": true,
   "toc_window_display": true
  }
 },
 "nbformat": 4,
 "nbformat_minor": 2
}
